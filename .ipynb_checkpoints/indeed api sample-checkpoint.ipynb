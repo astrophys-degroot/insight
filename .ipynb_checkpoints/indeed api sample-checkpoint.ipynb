{
 "cells": [
  {
   "cell_type": "code",
   "execution_count": 1,
   "metadata": {
    "collapsed": false,
    "scrolled": true
   },
   "outputs": [],
   "source": [
    "#import os\n",
    "#os.chdir('/media/tson/My Passport/Insight/Python/python-indeed-master')\n",
    "#python setup.py install\n",
    "from indeed import IndeedApi\n",
    "token='4253834937415916'\n",
    "api=IndeedApi(token)\n",
    "lat=[]\n",
    "lon=[]\n",
    "k=u'latitude'\n",
    "for i in range(0,200,25):\n",
    "    res=api.search('Data Science',strt=str(i))\n",
    "    for ii in range(25):\n",
    "        if k in res['results'][ii]:\n",
    "            lat.append(res['results'][ii][u'latitude'])\n",
    "            lon.append(res['results'][ii][u'longitude'])"
   ]
  },
  {
   "cell_type": "code",
   "execution_count": 2,
   "metadata": {
    "collapsed": false
   },
   "outputs": [],
   "source": [
    "token='4253834937415916'\n",
    "api=IndeedApi(token)\n",
    "lat=[]\n",
    "lon=[]\n",
    "k=u'latitude'\n",
    "for i in range(0,200,25):\n",
    "    res=api.search('Data Science',strt=str(i))\n",
    "    for ii in range(25):\n",
    "        if k in res['results'][ii]:\n",
    "            lat.append(res['results'][ii][u'latitude'])\n",
    "            lon.append(res['results'][ii][u'longitude'])"
   ]
  },
  {
   "cell_type": "code",
   "execution_count": 3,
   "metadata": {
    "collapsed": false,
    "scrolled": true
   },
   "outputs": [
    {
     "name": "stdout",
     "output_type": "stream",
     "text": [
      "Variable    Type         Data/Info\n",
      "----------------------------------\n",
      "IndeedApi   type         <class 'indeed.indeed.IndeedApi'>\n",
      "api         IndeedApi    <indeed.indeed.IndeedApi <...>object at 0x7fb369064c50>\n",
      "i           int          175\n",
      "ii          int          24\n",
      "k           unicode      latitude\n",
      "lat         list         n=192\n",
      "lon         list         n=192\n",
      "res         dict         n=10\n",
      "token       str          4253834937415916\n"
     ]
    }
   ],
   "source": [
    "whos"
   ]
  },
  {
   "cell_type": "code",
   "execution_count": 2,
   "metadata": {
    "collapsed": false
   },
   "outputs": [
    {
     "ename": "ImportError",
     "evalue": "No module named basemap",
     "output_type": "error",
     "traceback": [
      "\u001b[1;31m---------------------------------------------------------------------------\u001b[0m",
      "\u001b[1;31mImportError\u001b[0m                               Traceback (most recent call last)",
      "\u001b[1;32m<ipython-input-2-4a5bfe4eff6b>\u001b[0m in \u001b[0;36m<module>\u001b[1;34m()\u001b[0m\n\u001b[0;32m      1\u001b[0m \u001b[1;32mimport\u001b[0m \u001b[0mpylab\u001b[0m \u001b[1;32mas\u001b[0m \u001b[0mplt\u001b[0m\u001b[1;33m\u001b[0m\u001b[0m\n\u001b[1;32m----> 2\u001b[1;33m \u001b[1;32mfrom\u001b[0m \u001b[0mmpl_toolkits\u001b[0m\u001b[1;33m.\u001b[0m\u001b[0mbasemap\u001b[0m \u001b[1;32mimport\u001b[0m \u001b[0mBasemap\u001b[0m\u001b[1;33m\u001b[0m\u001b[0m\n\u001b[0m\u001b[0;32m      3\u001b[0m \u001b[0mplt\u001b[0m\u001b[1;33m.\u001b[0m\u001b[0mclose\u001b[0m\u001b[1;33m(\u001b[0m\u001b[1;34m'all'\u001b[0m\u001b[1;33m)\u001b[0m\u001b[1;33m\u001b[0m\u001b[0m\n\u001b[0;32m      4\u001b[0m \u001b[1;33m\u001b[0m\u001b[0m\n\u001b[0;32m      5\u001b[0m m = Basemap(llcrnrlon=-119,llcrnrlat=22,urcrnrlon=-64,urcrnrlat=49,\n",
      "\u001b[1;31mImportError\u001b[0m: No module named basemap"
     ]
    }
   ],
   "source": [
    "import pylab as plt\n",
    "from mpl_toolkits.basemap import Basemap\n",
    "plt.close('all')\n",
    "\n",
    "m = Basemap(llcrnrlon=-119,llcrnrlat=22,urcrnrlon=-64,urcrnrlat=49,\n",
    "projection='lcc',lat_1=33,lat_2=45,lon_0=-95,resolution='c')\n",
    "m.drawcoastlines()\n",
    "m.drawstates()\n",
    "m.drawcountries()\n",
    "max_size=80\n",
    "for city in lon.keys():\n",
    "        x, y = m(-lon[city],lat[city]) \n",
    "plt.show()"
   ]
  },
  {
   "cell_type": "code",
   "execution_count": 3,
   "metadata": {
    "collapsed": false,
    "scrolled": true
   },
   "outputs": [
    {
     "data": {
      "text/plain": [
       "[0,\n",
       " 1,\n",
       " 2,\n",
       " 3,\n",
       " 4,\n",
       " 5,\n",
       " 6,\n",
       " 7,\n",
       " 8,\n",
       " 9,\n",
       " 10,\n",
       " 11,\n",
       " 12,\n",
       " 13,\n",
       " 14,\n",
       " 15,\n",
       " 16,\n",
       " 17,\n",
       " 18,\n",
       " 19,\n",
       " 20,\n",
       " 21,\n",
       " 22,\n",
       " 23,\n",
       " 24]"
      ]
     },
     "execution_count": 3,
     "metadata": {},
     "output_type": "execute_result"
    }
   ],
   "source": [
    "range(25)\n"
   ]
  },
  {
   "cell_type": "code",
   "execution_count": null,
   "metadata": {
    "collapsed": false
   },
   "outputs": [],
   "source": [
    "\n",
    "det=api.job_details([res['results'][0]['jobkey']])\n",
    "print det[results][date]\n"
   ]
  },
  {
   "cell_type": "code",
   "execution_count": 3,
   "metadata": {
    "collapsed": true
   },
   "outputs": [
    {
     "data": {
      "text/plain": [
       "{u'results': [{u'city': u'Las Vegas',\n",
       "   u'company': u'HexaCorp',\n",
       "   u'country': u'US',\n",
       "   u'date': u'Mon, 04 Jan 2016 20:42:32 GMT',\n",
       "   u'expired': False,\n",
       "   u'formattedLocation': u'Las Vegas, NV',\n",
       "   u'formattedLocationFull': u'Las Vegas, NV',\n",
       "   u'formattedRelativeTime': u'8 days ago',\n",
       "   u'indeedApply': True,\n",
       "   u'jobkey': u'dc25da682bf8dcb1',\n",
       "   u'jobtitle': u'Project Manager with Big Data',\n",
       "   u'latitude': 36.173077,\n",
       "   u'longitude': -115.13187,\n",
       "   u'noUniqueUrl': False,\n",
       "   u'onmousedown': u\"indeed_clk(this, '');\",\n",
       "   u'recommendations': [],\n",
       "   u'snippet': u\"Design, develop, update, and manage the project plan utilizing the appropriate tools (e.g., MSP, Clarity, etc.). Bachelor's degree in business management, financial management, computer science, communications, or related field, required. PMP, Scrum Master, Six Sigma certification a plus. + PMP Certification....\",\n",
       "   u'source': u'HEXACORP',\n",
       "   u'sponsored': False,\n",
       "   u'state': u'NV',\n",
       "   u'url': u'http://www.indeed.com/rc/clk?jk=dc25da682bf8dcb1&atk='}],\n",
       " u'version': 2}"
      ]
     },
     "execution_count": 3,
     "metadata": {},
     "output_type": "execute_result"
    }
   ],
   "source": [
    "api.job_details([res['results'][0]['jobkey']])"
   ]
  },
  {
   "cell_type": "code",
   "execution_count": null,
   "metadata": {
    "collapsed": false
   },
   "outputs": [],
   "source": [
    "det= api.job_details([res['results'][1]['jobkey']])\n",
    "print det"
   ]
  },
  {
   "cell_type": "code",
   "execution_count": null,
   "metadata": {
    "collapsed": false
   },
   "outputs": [],
   "source": [
    "import pandas as pd\n",
    "jsonDetails = api.job_details([jsonResults['results'][0]['jobkey']])\n",
    "jd=pd.DataFrame(jsonDetails)\n",
    "\n",
    "jd"
   ]
  },
  {
   "cell_type": "code",
   "execution_count": null,
   "metadata": {
    "collapsed": false
   },
   "outputs": [],
   "source": [
    "\n"
   ]
  }
 ],
 "metadata": {
  "kernelspec": {
   "display_name": "Python 2",
   "language": "python",
   "name": "python2"
  },
  "language_info": {
   "codemirror_mode": {
    "name": "ipython",
    "version": 2
   },
   "file_extension": ".py",
   "mimetype": "text/x-python",
   "name": "python",
   "nbconvert_exporter": "python",
   "pygments_lexer": "ipython2",
   "version": "2.7.6"
  }
 },
 "nbformat": 4,
 "nbformat_minor": 0
}
