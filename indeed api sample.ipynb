{
 "cells": [
  {
   "cell_type": "code",
   "execution_count": 1,
   "metadata": {
    "collapsed": false,
    "scrolled": true
   },
   "outputs": [],
   "source": [
    "#import os\n",
    "#os.chdir('/media/tson/My Passport/Insight/Python/python-indeed-master')\n",
    "#python setup.py install\n",
    "from indeed import IndeedApi\n",
    "token='4253834937415916'\n",
    "api=IndeedApi(token)\n",
    "lat=[]\n",
    "lon=[]\n",
    "k=u'latitude'\n",
    "for i in range(0,200,25):\n",
    "    res=api.search('Data Science',strt=str(i))\n",
    "    for ii in range(25):\n",
    "        if k in res['results'][ii]:\n",
    "            lat.append(res['results'][ii][u'latitude'])\n",
    "            lon.append(res['results'][ii][u'longitude'])"
   ]
  },
  {
   "cell_type": "code",
   "execution_count": 3,
   "metadata": {
    "collapsed": true
   },
   "outputs": [
    {
     "data": {
      "text/plain": [
       "{u'results': [{u'city': u'Las Vegas',\n",
       "   u'company': u'HexaCorp',\n",
       "   u'country': u'US',\n",
       "   u'date': u'Mon, 04 Jan 2016 20:42:32 GMT',\n",
       "   u'expired': False,\n",
       "   u'formattedLocation': u'Las Vegas, NV',\n",
       "   u'formattedLocationFull': u'Las Vegas, NV',\n",
       "   u'formattedRelativeTime': u'8 days ago',\n",
       "   u'indeedApply': True,\n",
       "   u'jobkey': u'dc25da682bf8dcb1',\n",
       "   u'jobtitle': u'Project Manager with Big Data',\n",
       "   u'latitude': 36.173077,\n",
       "   u'longitude': -115.13187,\n",
       "   u'noUniqueUrl': False,\n",
       "   u'onmousedown': u\"indeed_clk(this, '');\",\n",
       "   u'recommendations': [],\n",
       "   u'snippet': u\"Design, develop, update, and manage the project plan utilizing the appropriate tools (e.g., MSP, Clarity, etc.). Bachelor's degree in business management, financial management, computer science, communications, or related field, required. PMP, Scrum Master, Six Sigma certification a plus. + PMP Certification....\",\n",
       "   u'source': u'HEXACORP',\n",
       "   u'sponsored': False,\n",
       "   u'state': u'NV',\n",
       "   u'url': u'http://www.indeed.com/rc/clk?jk=dc25da682bf8dcb1&atk='}],\n",
       " u'version': 2}"
      ]
     },
     "execution_count": 3,
     "metadata": {},
     "output_type": "execute_result"
    }
   ],
   "source": [
    "api.job_details([res['results'][0]['jobkey']])"
   ]
  }
 ],
 "metadata": {
  "kernelspec": {
   "display_name": "Python 2",
   "language": "python",
   "name": "python2"
  },
  "language_info": {
   "codemirror_mode": {
    "name": "ipython",
    "version": 2
   },
   "file_extension": ".py",
   "mimetype": "text/x-python",
   "name": "python",
   "nbconvert_exporter": "python",
   "pygments_lexer": "ipython2",
   "version": "2.7.6"
  }
 },
 "nbformat": 4,
 "nbformat_minor": 0
}
